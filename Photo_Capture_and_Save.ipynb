{
 "cells": [
  {
   "cell_type": "markdown",
   "metadata": {},
   "source": [
    "## Photo Capture and save it to your machine\n",
    "### Contributor : CHAUDHARY HAMDAN\n",
    "###### All you need is once the camera window is opened after running the code, press space to capture the photo and 'q' to quit "
   ]
  },
  {
   "cell_type": "code",
   "execution_count": 109,
   "metadata": {},
   "outputs": [],
   "source": [
    "import cv2\n",
    "from datetime import datetime"
   ]
  },
  {
   "cell_type": "code",
   "execution_count": 114,
   "metadata": {},
   "outputs": [],
   "source": [
    "cap = cv2.VideoCapture(0)\n",
    "c = 0\n",
    "prvdt_string\n",
    "while True:\n",
    "    ret,frame = cap.read()\n",
    "    if ret == False:\n",
    "        continue\n",
    "    cv2.imshow('Frame',frame)\n",
    "    key_pressed = cv2.waitKey(1) & 0xff\n",
    "    if key_pressed == ord(' '):\n",
    "        dt_string = datetime.now().strftime(\"%d%m%Y_%H%M%S\")\n",
    "        if prvdt_string == dt_string:\n",
    "            c += 1\n",
    "        else:\n",
    "            prvdt_string = dt_string\n",
    "            c = 0\n",
    "        ans_string = dt_string+'_'+str(c)\n",
    "        cv2.imwrite(filename=f'Photos_Captured/Hamdan_s_OpenCV_{ans_string}.jpg', img=frame)\n",
    "    if key_pressed == ord('q'):\n",
    "        break\n",
    "cap.release()\n",
    "cv2.destroyAllWindows()\n"
   ]
  },
  {
   "cell_type": "code",
   "execution_count": null,
   "metadata": {},
   "outputs": [],
   "source": []
  },
  {
   "cell_type": "code",
   "execution_count": null,
   "metadata": {},
   "outputs": [],
   "source": []
  }
 ],
 "metadata": {
  "kernelspec": {
   "display_name": "Python 3",
   "language": "python",
   "name": "python3"
  },
  "language_info": {
   "codemirror_mode": {
    "name": "ipython",
    "version": 3
   },
   "file_extension": ".py",
   "mimetype": "text/x-python",
   "name": "python",
   "nbconvert_exporter": "python",
   "pygments_lexer": "ipython3",
   "version": "3.6.5"
  }
 },
 "nbformat": 4,
 "nbformat_minor": 2
}
